{
 "cells": [
  {
   "cell_type": "markdown",
   "id": "8f44cab7-317b-4e23-9e6d-2b3d538f94ee",
   "metadata": {},
   "source": [
    "# Merge PDF Documents\n",
    "Stack Overflow -> https://stackoverflow.com/questions/3444645/merge-pdf-files"
   ]
  },
  {
   "cell_type": "code",
   "execution_count": 1,
   "id": "440a0eb6-7a45-4b68-8e54-8ebdc9da760d",
   "metadata": {},
   "outputs": [
    {
     "name": "stdout",
     "output_type": "stream",
     "text": [
      "PDFs merged successfully!\n"
     ]
    }
   ],
   "source": [
    "import PyPDF2\n",
    "\n",
    "def merge_pdfs(pdf_list, output_path):\n",
    "    # Create a PDF writer object\n",
    "    pdf_writer = PyPDF2.PdfWriter()\n",
    "    \n",
    "    # Loop through all PDFs in the list\n",
    "    for pdf in pdf_list:\n",
    "        # Open the current PDF\n",
    "        with open(pdf, 'rb') as f:\n",
    "            pdf_reader = PyPDF2.PdfReader(f)\n",
    "            \n",
    "            # Add each page of the current PDF to the writer\n",
    "            for page_num in range(len(pdf_reader.pages)):\n",
    "                page = pdf_reader.pages[page_num]\n",
    "                pdf_writer.add_page(page)\n",
    "    \n",
    "    # Write the merged PDF to the output file\n",
    "    with open(output_path, 'wb') as output_pdf:\n",
    "        pdf_writer.write(output_pdf)\n",
    "\n",
    "# Example usage\n",
    "pdf_files = [\"file1.pdf\",\n",
    "             \"file2.pdf\"]\n",
    "output_pdf = \"file_1_2_merge.pdf\"\n",
    "merge_pdfs(pdf_files, output_pdf)\n",
    "print(\"PDFs merged successfully!\")\n"
   ]
  },
  {
   "cell_type": "code",
   "execution_count": null,
   "id": "21cd3f47-87c8-41de-8158-b9a4b4523647",
   "metadata": {},
   "outputs": [],
   "source": []
  }
 ],
 "metadata": {
  "kernelspec": {
   "display_name": "Python 3 (ipykernel)",
   "language": "python",
   "name": "python3"
  },
  "language_info": {
   "codemirror_mode": {
    "name": "ipython",
    "version": 3
   },
   "file_extension": ".py",
   "mimetype": "text/x-python",
   "name": "python",
   "nbconvert_exporter": "python",
   "pygments_lexer": "ipython3",
   "version": "3.11.6"
  }
 },
 "nbformat": 4,
 "nbformat_minor": 5
}
